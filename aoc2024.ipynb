{
 "cells": [
  {
   "metadata": {},
   "cell_type": "markdown",
   "source": "##  ‧₊˚🎄✩ ₊˚🦌⊹♡ Advent of Code 2024 ‧₊˚🎄✩ ₊˚🦌⊹♡",
   "id": "febf7117868c140b"
  },
  {
   "cell_type": "code",
   "id": "initial_id",
   "metadata": {
    "collapsed": true,
    "ExecuteTime": {
     "end_time": "2024-12-13T14:08:01.799345Z",
     "start_time": "2024-12-13T14:08:01.385242Z"
    }
   },
   "source": [
    "import itertools\n",
    "import functools\n",
    "import collections\n",
    "import numpy as np\n",
    "import pandas as pd"
   ],
   "outputs": [],
   "execution_count": 1
  },
  {
   "metadata": {},
   "cell_type": "markdown",
   "source": "----------",
   "id": "9e52f648a8325244"
  },
  {
   "metadata": {},
   "cell_type": "markdown",
   "source": "Day 1",
   "id": "97caf0aea5fc0f01"
  },
  {
   "metadata": {},
   "cell_type": "code",
   "outputs": [],
   "execution_count": null,
   "source": "",
   "id": "bd4e0dee3ad64d3"
  },
  {
   "metadata": {
    "ExecuteTime": {
     "end_time": "2024-12-13T11:46:51.850035Z",
     "start_time": "2024-12-13T11:46:51.843471Z"
    }
   },
   "cell_type": "code",
   "source": [
    "def solve(i: int):\n",
    "    return 1\n",
    "\n",
    "solve(10)"
   ],
   "id": "d883088c99dcee32",
   "outputs": [
    {
     "data": {
      "text/plain": [
       "1"
      ]
     },
     "execution_count": 11,
     "metadata": {},
     "output_type": "execute_result"
    }
   ],
   "execution_count": 11
  }
 ],
 "metadata": {
  "kernelspec": {
   "display_name": "Python 3",
   "language": "python",
   "name": "python3"
  },
  "language_info": {
   "codemirror_mode": {
    "name": "ipython",
    "version": 2
   },
   "file_extension": ".py",
   "mimetype": "text/x-python",
   "name": "python",
   "nbconvert_exporter": "python",
   "pygments_lexer": "ipython2",
   "version": "2.7.6"
  }
 },
 "nbformat": 4,
 "nbformat_minor": 5
}
