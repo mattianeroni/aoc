{
 "cells": [
  {
   "metadata": {},
   "cell_type": "markdown",
   "source": "##  ‧₊˚🎄✩ ₊˚🦌⊹♡ Advent of Code 2024 ‧₊˚🎄✩ ₊˚🦌⊹♡",
   "id": "febf7117868c140b"
  },
  {
   "metadata": {},
   "cell_type": "markdown",
   "source": "The resolutions for the new year are to have a good trade off between shortness, readability and performance",
   "id": "2f57e656974f8b55"
  },
  {
   "cell_type": "code",
   "id": "initial_id",
   "metadata": {
    "collapsed": true,
    "ExecuteTime": {
     "end_time": "2024-12-24T20:44:45.866559Z",
     "start_time": "2024-12-24T20:44:45.293145Z"
    }
   },
   "source": [
    "import heapq\n",
    "import operator\n",
    "import itertools\n",
    "import functools\n",
    "import statistics\n",
    "import collections\n",
    "\n",
    "import numpy as np\n",
    "import pandas as pd\n",
    "import matplotlib.pyplot as plt\n",
    "\n",
    "from matplotlib.colors import ListedColormap"
   ],
   "outputs": [],
   "execution_count": 2
  },
  {
   "metadata": {},
   "cell_type": "markdown",
   "source": "----------",
   "id": "9e52f648a8325244"
  },
  {
   "metadata": {},
   "cell_type": "markdown",
   "source": "### Day 1: Historian Hysteria 🎄",
   "id": "97caf0aea5fc0f01"
  },
  {
   "metadata": {},
   "cell_type": "markdown",
   "source": "Easy start. Using `pandas` makes the import a bit cleaner to me in this first game.",
   "id": "96e1c639ced4ff8b"
  },
  {
   "metadata": {
    "ExecuteTime": {
     "end_time": "2024-12-13T14:19:53.557083Z",
     "start_time": "2024-12-13T14:19:53.546670Z"
    }
   },
   "cell_type": "code",
   "source": [
    "df = pd.read_csv('data/day1.txt', sep='   ', header=None, engine='python')\n",
    "\n",
    "delta = np.abs(np.sort(df[0]) - np.sort(df[1])).sum()\n",
    "counter = collections.Counter(df[1])\n",
    "delta_diff = sum(i * counter[i] for i in df[0])\n",
    "\n",
    "print(f\"Answer 1: {delta}\")\n",
    "print(f\"Answer 2: {delta_diff}\")"
   ],
   "id": "bd4e0dee3ad64d3",
   "outputs": [
    {
     "name": "stdout",
     "output_type": "stream",
     "text": [
      "Answer 1: 2375403\n",
      "Answer 2: 23082277\n"
     ]
    }
   ],
   "execution_count": 10
  },
  {
   "metadata": {},
   "cell_type": "markdown",
   "source": "-----------",
   "id": "1adc687909e00573"
  },
  {
   "metadata": {},
   "cell_type": "markdown",
   "source": "### Day 2: Red-Nosed Reports 🦌🔴",
   "id": "50ba7d598634608c"
  },
  {
   "metadata": {},
   "cell_type": "markdown",
   "source": "Less clean than the solution proposed for instance by Peter Norvig but more efficient. Also, in `is_safe_repair`, Peter tries all the combinations while just the first one is enough because the texts says it is feasible if we can repair ONE infeasibility. But it's okay, Google is Google and capitalism is 💩.",
   "id": "61426e535f01c998"
  },
  {
   "metadata": {
    "ExecuteTime": {
     "end_time": "2024-12-13T14:41:16.184479Z",
     "start_time": "2024-12-13T14:41:16.168961Z"
    }
   },
   "cell_type": "code",
   "source": [
    "with open ('data/day2.txt') as f:\n",
    "    rows = [list(map(int, line.split(' '))) for line in f]\n",
    "\n",
    "def inrange(delta):\n",
    "    return 1 <= abs(delta) <= 3\n",
    "\n",
    "def is_safe(row):\n",
    "    rowthread = int(row[0] > row[-1])\n",
    "    return all(int(i > j) == rowthread and inrange(i - j) for i, j in zip(row, row[1:]))\n",
    "\n",
    "def is_safe_repair(row):\n",
    "    rowthread = int(row[0] > row[-1])\n",
    "    idx = next(idx for idx, (i, j) in enumerate(zip(row, row[1:])) if int(i > j) != rowthread or not inrange(i - j))\n",
    "    return is_safe(row[:idx] + row[idx + 1:]) or is_safe(row[:idx + 1] + row[idx + 2:])\n",
    "\n",
    "safe_count = sum(1 for row in rows if is_safe(row))\n",
    "safe_repair = sum(1 for row in rows if is_safe(row) or is_safe_repair(row))\n",
    "\n",
    "print(\"Answer 1: \", safe_count)\n",
    "print(\"Answer 2: \", safe_repair)"
   ],
   "id": "5ff44242e5f3bfbb",
   "outputs": [
    {
     "name": "stdout",
     "output_type": "stream",
     "text": [
      "Answer 1:  356\n",
      "Answer 2:  413\n"
     ]
    }
   ],
   "execution_count": 17
  },
  {
   "metadata": {},
   "cell_type": "markdown",
   "source": "-------",
   "id": "e113bed4cdffc4f4"
  },
  {
   "metadata": {},
   "cell_type": "markdown",
   "source": "### Day 3: Mull It Over 📖",
   "id": "c630bcad26988bd8"
  },
  {
   "metadata": {},
   "cell_type": "markdown",
   "source": [
    "The book in the title is because we are doing string manipulation, the most horrible of all tasks. Together with carbon for bad kids ⛽️ because I don't want to lose time on this. The `import re` is here because I hope I don't need regex anymore.\n",
    "\n",
    "Curious that `mul` is also a function in the `operator` module, so we can use `eval('operator.' + mulstr)` after importing `operator` to evaluate a multiplication ⚡️.\n",
    "\n",
    "I'm definetly not an expert, but it seems regex multiline is not working, that's why `text.replace('\\n', '')`. I like the 💄 emoji.\n",
    "\n",
    "Please note this solution is not working in case of a deactivation `don't()` at the end not followed by any `do()`, but I verified this was not the case in the dataset and, again, I hate losing time on strings manipulation."
   ],
   "id": "f0e50346ba9c3a25"
  },
  {
   "metadata": {
    "ExecuteTime": {
     "end_time": "2024-12-13T16:25:16.842754Z",
     "start_time": "2024-12-13T16:25:16.829225Z"
    }
   },
   "cell_type": "code",
   "source": [
    "import re\n",
    "\n",
    "with open ('data/day3.txt') as f:\n",
    "    text = f.read()\n",
    "\n",
    "def compile(mulstr):\n",
    "    return eval('operator.' + mulstr)\n",
    "\n",
    "total = sum(compile(i) for i in re.findall(r'mul\\(\\d+,\\d+\\)', text))\n",
    "active_text = re.sub(r\"don't\\(\\).*?(do\\(\\)|$)\", \"💄\", text.replace('\\n', ''))\n",
    "active_total = sum(compile(i) for i in re.findall(r'mul\\(\\d+,\\d+\\)', active_text))\n",
    "\n",
    "print(\"Answer 1: \", total)\n",
    "print(\"Answer 2: \", active_total)"
   ],
   "id": "c1530bd9003384fa",
   "outputs": [
    {
     "name": "stdout",
     "output_type": "stream",
     "text": [
      "Answer 1:  184576302\n",
      "Answer 2:  118173507\n"
     ]
    }
   ],
   "execution_count": 4
  },
  {
   "metadata": {},
   "cell_type": "markdown",
   "source": "--------------",
   "id": "50c4c8470675d9f5"
  },
  {
   "metadata": {},
   "cell_type": "markdown",
   "source": "### Day 4: Ceres Search 🍺",
   "id": "8269cb171ecb6cf4"
  },
  {
   "metadata": {},
   "cell_type": "markdown",
   "source": [
    "As italian, the Ceres to me is a beer 🍺. And the input is a beautiful 140 x 140 matrix, and to me this means `numpy`.\n",
    "Curious that I wrote the first function `get_xmas_in_line` to detect horizontal written XMAS and I realized, first, that it was possible to use it for vertically written XMAS by simply transposing the matrix, then, that it was possible to use it for diagonal XMAS as well 🤯 by rolling separately each column. However, it was getting too complicated and I opted for a simple nested for loop 🫏.\n",
    "\n",
    "Like `a` becomes `b` by rolling column 0 by 0, column 1 by -1, column 2 by -2 and column 3 by -3.\n",
    "```\n",
    "a = [[X # # #]\n",
    "     [# M # #]\n",
    "     [# # A #]\n",
    "     [# # # S]]\n",
    "b = [[X M A S]\n",
    "     [# # # #]\n",
    "     [# # # #]\n",
    "     [# # # #]]\n",
    "```\n",
    "\n",
    "Second part on X-MAS reminds me a porn (that's why `get_xmas_diagonal_porn`function).\n",
    "\n",
    "Horrible idea using `numpy`, I give myself a 5 this time. Julia functions vectorization is way cleaner by the way."
   ],
   "id": "8ea5894d329352f5"
  },
  {
   "metadata": {
    "ExecuteTime": {
     "end_time": "2024-12-13T17:40:50.001028Z",
     "start_time": "2024-12-13T17:40:49.326230Z"
    }
   },
   "cell_type": "code",
   "source": [
    "with open ('data/day4.txt') as f:\n",
    "    data = np.array([list(line.replace('\\n', '')) for line in f])\n",
    "\n",
    "def get_xmas_in_line(matrix, rolling):\n",
    "    xmas, samx = np.array(['X', 'M', 'A', 'S']), np.array(['S', 'A', 'M', 'X'])\n",
    "    rolled_matrix = np.roll(matrix, rolling, axis=1)\n",
    "    rolled_matrix[:, :rolling] = \"N\"\n",
    "    return int(np.all( rolled_matrix.reshape((-1, 4)) == xmas, axis=1).astype(int).sum()) + \\\n",
    "           int(np.all( rolled_matrix.reshape((-1, 4)) == samx, axis=1).astype(int).sum())\n",
    "\n",
    "def get_numeric_matrix(matrix):\n",
    "    num = np.zeros(matrix.shape)\n",
    "    for letter, number in zip(('X', 'M', 'A', 'S'), range(1, 5)):\n",
    "        num[matrix == letter] = number\n",
    "    return num\n",
    "\n",
    "def get_xmas_diagonal(matrix):\n",
    "    xmas, samx = np.array([1,2,3,4]), np.array([4,3,2,1])\n",
    "    return sum(\n",
    "        sum([\n",
    "            int(np.array_equal((matrix[i:i+4, j:j+4] * np.eye(4,4)).sum(axis=0), xmas)),\n",
    "            int(np.array_equal((matrix[i:i+4, j:j+4] * np.eye(4,4)).sum(axis=0), samx)),\n",
    "            int(np.array_equal((matrix[i:i+4, j:j+4] * np.flip(np.eye(4,4), axis=1)).sum(axis=0), xmas)),\n",
    "            int(np.array_equal((matrix[i:i+4, j:j+4] * np.flip(np.eye(4,4), axis=1)).sum(axis=0), samx))\n",
    "        ])\n",
    "        for i in range(matrix.shape[0] - 3) for j in range(matrix.shape[1] - 3)\n",
    "    )\n",
    "\n",
    "def get_xmas_diagonal_porn(matrix):\n",
    "    xeye = np.array([[1, 0, 1], [0, 1, 0], [1, 0, 1]])\n",
    "    return sum(\n",
    "        sum([\n",
    "            int(np.array_equal( matrix[i:i+3, j:j+3] * xeye, np.array([[2, 0, 2],[0, 3, 0],[4, 0, 4]]))),\n",
    "            int(np.array_equal( matrix[i:i+3, j:j+3] * xeye, np.array([[4, 0, 4],[0, 3, 0],[2, 0, 2]]))),\n",
    "            int(np.array_equal( matrix[i:i+3, j:j+3]* xeye, np.array([[4, 0, 2],[0, 3, 0],[4, 0, 2]]))),\n",
    "            int(np.array_equal( matrix[i:i+3, j:j+3]* xeye, np.array([[2, 0, 4],[0, 3, 0],[2, 0, 4]]))),\n",
    "        ])\n",
    "        for i in range(matrix.shape[0] - 2) for j in range(matrix.shape[1] - 2)\n",
    "    )\n",
    "\n",
    "h = sum(get_xmas_in_line(data, rolling=i) for i in range(4))\n",
    "v = sum(get_xmas_in_line(data.T, rolling=i) for i in range(4))\n",
    "d = get_xmas_diagonal(get_numeric_matrix(data))\n",
    "xd = get_xmas_diagonal_porn(get_numeric_matrix(data))\n",
    "print(\"Answer 1: \", h + v + d)\n",
    "print(\"Answer 2: \", xd)"
   ],
   "id": "d37c9e55bb3980f2",
   "outputs": [
    {
     "name": "stdout",
     "output_type": "stream",
     "text": [
      "Answer 1:  2358\n",
      "Answer 2:  1737\n"
     ]
    }
   ],
   "execution_count": 66
  },
  {
   "metadata": {},
   "cell_type": "markdown",
   "source": "------------",
   "id": "6092bd4cae27284a"
  },
  {
   "metadata": {},
   "cell_type": "markdown",
   "source": "### Day 5: Print Queue 🦚",
   "id": "c0699b4be0a6b536"
  },
  {
   "metadata": {},
   "cell_type": "markdown",
   "source": [
    "Tail, queue, that's why the peacock. Somebody says this is ADHD. To me it's fantasy. I hate these stupid sequences that respect rules 👮🏾 slaves of the state.\n",
    "\n",
    "I was sure Python offered the possibility to sort by a comparison function but it was not. This is a shame. Another +1 to Julia. In general this was a pretty boring one. No reason to comment the procedure. Of course, the most efficient way to repair the sequences was to use a tree, but given the size of sequences this complication is not justified. As always happens, the state does not invest much in reintegrating who doesn't respect rules 🚔🚓."
   ],
   "id": "4d41a82fbe1c49c2"
  },
  {
   "metadata": {
    "ExecuteTime": {
     "end_time": "2024-12-13T18:15:36.509951Z",
     "start_time": "2024-12-13T18:15:36.495891Z"
    }
   },
   "cell_type": "code",
   "source": [
    "rules = collections.defaultdict(set)\n",
    "data = []\n",
    "\n",
    "with open ('data/day5.txt') as f:\n",
    "    reading_data = False\n",
    "    for line in f:\n",
    "        if line == '\\n':\n",
    "            reading_data = True\n",
    "            continue\n",
    "        if not reading_data:\n",
    "            rule = line.split('|')\n",
    "            rules[int(rule[0])].add(int(rule[1]))\n",
    "        else:\n",
    "            data.append(list(map(int, line.split(','))))\n",
    "\n",
    "def respect_rules(seq, rules):\n",
    "    return all(len(rules[i] & set(seq[:pos])) == 0 for pos, i in enumerate(seq))\n",
    "\n",
    "def get_middle(seq):\n",
    "    return seq[len(seq) // 2]\n",
    "\n",
    "def fix_sequence(seq, rules):\n",
    "    return sorted(seq, key=functools.cmp_to_key(lambda i, j: -1 if j in rules[i] else 1))\n",
    "\n",
    "respect_rules_count = sum(get_middle(i) for i in data if respect_rules(i, rules))\n",
    "do_not_respect_rules_count = sum(get_middle(fix_sequence(i, rules)) for i in data if not respect_rules(i, rules))\n",
    "\n",
    "print(f\"Answer 1: {respect_rules_count}\")\n",
    "print(f\"Answer 2: {do_not_respect_rules_count}\")"
   ],
   "id": "2db1f960a3e298af",
   "outputs": [
    {
     "name": "stdout",
     "output_type": "stream",
     "text": [
      "Answer 1: 5275\n",
      "Answer 2: 6191\n"
     ]
    }
   ],
   "execution_count": 87
  },
  {
   "metadata": {},
   "cell_type": "markdown",
   "source": "-------",
   "id": "b39ed959756c3aeb"
  },
  {
   "metadata": {},
   "cell_type": "markdown",
   "source": "### Day 6: Guard Gallivant 💂🏻💂🏻💂🏾‍♀️",
   "id": "5841eeff5772665a"
  },
  {
   "metadata": {},
   "cell_type": "markdown",
   "source": [
    "When I started reading the problem I hoped for a few seconds in a request to write a shortest path finding algorithm 🤩(but it was not). Let's call directions `up = 0`, `right = 1`, `down = 2`, `left = 3`. While the `turn` function seems a piece of art, the rest is a bit verbose, but it's okay. The fact of having to deal with directions make it verbose. I'm curious if there's a way to automatically manage directions (maybe simply rotating the matrix of space) 🤔. There is a possibility I'll come back to rewrite this.\n",
    "\n",
    "For the second part 🎬2️⃣, my first intuition was that we need to look at already encountered obstacles, and find 3 of them that together with the new one would form a parallelepiped ▱. Also, we are lucky, because they always need to be in order in the sequence of already found obstacles (this reduces a lot the probabilities 🏎️). But then SBAM 💥, looking at option five presented in the example I realised we can have a loop even without a parallelepiped. In this case a classic brute force should work (around `10`s running time).\n",
    "\n",
    "In the case of the brute force, the loop is detected when the guard pass a second time on a position with also the same direction 🧞‍♂️.\n",
    "\n",
    "Together with the brute force, I also tried to place an obstacle in every position visited at the first round, classifying it as a loop if the guard was redirected into an already visited obstacle with the same direction. This approach although was detecting some non-existent loops. Curious. I still have to figure out why 🐨."
   ],
   "id": "fe4ab141ef16cde5"
  },
  {
   "metadata": {
    "ExecuteTime": {
     "end_time": "2024-12-15T18:41:53.644994Z",
     "start_time": "2024-12-15T18:41:44.041603Z"
    }
   },
   "cell_type": "code",
   "source": [
    "with open ('data/day6.txt') as f:\n",
    "    m = np.array([list(line.replace('\\n', '')) for line in f])\n",
    "    m = np.where(m == '.', 0, np.where(m == '#', 1, -1)).astype(np.int32)\n",
    "\n",
    "def turn(direction):\n",
    "    return (direction + 1) % 4\n",
    "\n",
    "def guard_pos(m):\n",
    "    return tuple(map(int, map(operator.itemgetter(0), np.where(m == -1))))\n",
    "\n",
    "def in_grid(pos, grid):\n",
    "    return 0 <= pos[0] < grid.shape[0] and 0 <= pos[1] < grid.shape[1]\n",
    "\n",
    "def get_visited_pos(orig, dest):\n",
    "    return tuple((orig[0], i) for i in range(orig[1], dest[1], 1 if dest[1] > orig[1] else -1)) if orig[0] == dest[0] \\\n",
    "        else tuple((i, orig[1]) for i in range(orig[0], dest[0], 1 if dest[0] > orig[0] else -1))\n",
    "\n",
    "def next_obstacle(pos, direction, m):\n",
    "    if direction == 0: return next(((i, pos[1]) for i in range(pos[0], -1, -1) if m[i, pos[1]] == 1), (-1, pos[1]))\n",
    "    elif direction == 1: return next(((pos[0], i) for i in range(pos[1], m.shape[1]) if m[pos[0], i] == 1), (pos[0], m.shape[1]))\n",
    "    elif direction == 2: return next(((i, pos[1]) for i in range(pos[0], m.shape[0]) if m[i, pos[1]] == 1), (m.shape[0], pos[1]))\n",
    "    elif direction == 3: return next(((pos[0], i) for i in range(pos[1], -1, -1) if m[pos[0], i] == 1), (pos[0], -1))\n",
    "\n",
    "def simulate_loop(obs_pos, m):\n",
    "    m[obs_pos] = 1\n",
    "    _, loop = get_path(m)\n",
    "    m[obs_pos] = 0\n",
    "    return loop\n",
    "\n",
    "def get_path(m):\n",
    "    direction, visited, visited_with_direction = 0, set(), set()\n",
    "    cpos = guard_pos(m)\n",
    "    while True:\n",
    "        obs = next_obstacle(cpos, direction, m)\n",
    "        newly_visited = get_visited_pos(cpos, obs)\n",
    "        newly_visited_with_direction = set([(i, j, direction) for i, j in newly_visited])\n",
    "        visited.update(newly_visited)\n",
    "        # loop when passing on same position with same direction two times\n",
    "        if len(newly_visited_with_direction & visited_with_direction) > 0:\n",
    "            return visited, True\n",
    "        visited_with_direction.update(newly_visited_with_direction)\n",
    "        # guard exits\n",
    "        if not in_grid(obs, m):\n",
    "            break\n",
    "        direction = turn(direction)\n",
    "        cpos = newly_visited[-1]\n",
    "    return visited, False\n",
    "\n",
    "visited, _ = get_path(m)\n",
    "loop_options = sum(simulate_loop(pos, m) for pos in visited - {guard_pos(m)})\n",
    "\n",
    "print(f\"Answer 1: {len(visited)}\")\n",
    "print(f\"Answer 2: {loop_options}\")"
   ],
   "id": "928be6218c222a17",
   "outputs": [
    {
     "name": "stdout",
     "output_type": "stream",
     "text": [
      "Answer 1: 5453\n",
      "Answer 2: 2188\n"
     ]
    }
   ],
   "execution_count": 84
  },
  {
   "metadata": {},
   "cell_type": "markdown",
   "source": "-------------",
   "id": "fd3cba7a6de6ccbb"
  },
  {
   "metadata": {},
   "cell_type": "markdown",
   "source": "### Day 7: Bridge Repair 🌉",
   "id": "3c55664fbac12fca"
  },
  {
   "metadata": {},
   "cell_type": "markdown",
   "source": "The italian's bridge, as the idiot Salvini says. Period 🗿. We would be nothing without the glorious module: `functools` 🔱.",
   "id": "b3653805efd67214"
  },
  {
   "metadata": {
    "ExecuteTime": {
     "end_time": "2024-12-15T21:43:39.853502Z",
     "start_time": "2024-12-15T21:43:25.499591Z"
    }
   },
   "cell_type": "code",
   "source": [
    "with open ('data/day7.txt') as f:\n",
    "    ops = [ (int(line.split(':')[0]), tuple(map(int, line.replace('\\n', '').split(': ')[1].split(' ')))) for line in f]\n",
    "\n",
    "def join_operator(a, b):\n",
    "    return int(str(a) + str(b))\n",
    "\n",
    "def calibration(result, seq, operators):\n",
    "    if any( functools.reduce(lambda r, i: i[0](r, i[1]), zip(op, seq[1:]), seq[0]) == result\n",
    "        for op in itertools.product(operators, repeat=len(seq) - 1)):\n",
    "        return result\n",
    "    return 0\n",
    "\n",
    "calibration_result_1 = sum(calibration(res, seq, operators=(operator.add, operator.mul)) for res, seq in ops)\n",
    "calibration_result_2 = sum(calibration(res, seq, operators=(operator.add, operator.mul, join_operator)) for res, seq in ops)\n",
    "\n",
    "print(f\"Answer 1: {calibration_result_1}\")\n",
    "print(f\"Answer 2: {calibration_result_2}\")"
   ],
   "id": "e4a4f32aed150974",
   "outputs": [
    {
     "name": "stdout",
     "output_type": "stream",
     "text": [
      "Answer 1: 6392012777720\n",
      "Answer 2: 61561126043536\n"
     ]
    }
   ],
   "execution_count": 73
  },
  {
   "metadata": {},
   "cell_type": "markdown",
   "source": "--------------",
   "id": "3a0d451ddda71a75"
  },
  {
   "metadata": {},
   "cell_type": "markdown",
   "source": "### Day 8: Resonant Collinearity 📡",
   "id": "909a25e31cb53c1b"
  },
  {
   "metadata": {},
   "cell_type": "markdown",
   "source": [
    "Geometry first kids 📐. You don't know how to compute the points in which a circle intersects a line? Go study it, God Damn! 🤬\n",
    "[Here](https://github.com/mattianeroni/space-exploration/blob/main/src/main/java/sx/pathsmoother/GeometricSmoother.java) is how in Java. Directly from my repo on space exploration made for autonomous driving drones ✈️. Alternatively you can use `scikit-spatial`. But wait. Why we need to compute where a circle intersect a line Professor 🧑🏽‍🏫? Because antinodes are on the line formed by two antennas at a distance which is twice the one between antennas (i.e., a circe ⭕️centered in one of the antennas with a radius twice the distance between antennas), easy right 🍼?\n",
    "\n",
    "But isn't there a simpler solution? ❔Of course, we are not a shitty company where everything is overcomplicated. That's it, `numpy` and manhattan distance (`numpy` just because `+` and `-` are already implemented and much prettier 😻than a function `sum` 🤢).\n",
    "\n",
    "The `range(world.shape[0])` is not a chirurgical solution, but it was sugar compared to a `while inside()` loop ."
   ],
   "id": "99deca48c20b2063"
  },
  {
   "metadata": {
    "ExecuteTime": {
     "end_time": "2024-12-17T21:00:21.029486Z",
     "start_time": "2024-12-17T21:00:20.990012Z"
    }
   },
   "cell_type": "code",
   "source": [
    "world = pd.read_csv('data/day8.txt', delimiter='', engine='python', header=None).to_numpy()[:, 1:-1]\n",
    "freq_to_site = {i : np.where(world == i) for i in set(np.unique(world)) - {'.'}}\n",
    "\n",
    "def inside(pos, world):\n",
    "    return 0 <= pos[0] < world.shape[0] and 0 <= pos[1] < world.shape[1]\n",
    "\n",
    "def totuple(pos):\n",
    "    return tuple(pos.tolist())\n",
    "\n",
    "def get_antinodes(antenna_a, antenna_b):\n",
    "    dist = antenna_b - antenna_a\n",
    "    return totuple(antenna_b + dist), totuple(antenna_a - dist)\n",
    "\n",
    "def get_antinodes_with_harmonics(antenna_a, antenna_b, world):\n",
    "    dist = antenna_b - antenna_a\n",
    "    return [totuple(antenna_b + dist * i) for i in range(world.shape[0])] + [totuple(antenna_a - dist * i) for i in range(world.shape[0])]\n",
    "\n",
    "antinodes = set(antinode\n",
    "    for x, y in freq_to_site.values()\n",
    "    for a, b in itertools.combinations(zip(x, y), 2)\n",
    "    for antinode in get_antinodes(np.asarray(a), np.asarray(b)) if inside(antinode, world)\n",
    ")\n",
    "\n",
    "antinodes_with_harmonics = set(antinode\n",
    "    for name, (x, y) in freq_to_site.items()\n",
    "    for a, b in itertools.combinations(zip(x, y), 2)\n",
    "    for antinode in get_antinodes_with_harmonics(np.asarray(a), np.asarray(b), world) if inside(antinode, world)\n",
    ")\n",
    "\n",
    "print(f\"Answer 1: {len(antinodes)}\")\n",
    "print(f\"Answer 2: {len(antinodes_with_harmonics)}\")"
   ],
   "id": "710634926a5e116b",
   "outputs": [
    {
     "name": "stdout",
     "output_type": "stream",
     "text": [
      "Answer 1: 240\n",
      "Answer 2: 955\n"
     ]
    }
   ],
   "execution_count": 207
  },
  {
   "metadata": {},
   "cell_type": "markdown",
   "source": "--------",
   "id": "1d948651bb806846"
  },
  {
   "metadata": {},
   "cell_type": "markdown",
   "source": "### Day 9: Disk Fragmenter 💾",
   "id": "a533ccffbca89276"
  },
  {
   "metadata": {},
   "cell_type": "markdown",
   "source": [
    "What is human memory in Gb? 🧠 For sure if I read it, I forget it after 2 seconds.\n",
    "\n",
    "In part 1 1️⃣, it wasn't clear if we had to treat single digits or numbers, and all the examples provided arrive until 9 leaving unclear what to do with numbers of `> 2` digits. Am I the only one who had this doubt 🧐? Hope Santa is not one of those leaders not able to explain tasks, this would break my heart 💔.\n",
    "\n",
    "For the first part, I simply worked with a list of numbers moving from left to right ➡️with spaces and right to left ⬅️with numbers and switching every pair `(space, number)` until the two iterations did not match in the middle.\n",
    "\n",
    "For second part 🎬, I think we found a very efficient solution by reading the disk as a list-of-lists (i.e., files and spaces). Then, per each file from right to left, we find a space at its left. If the space 🪐 does not exist we pass to the next file.\n",
    "\n",
    "I have to say this has been the trickiest exercise until now 💦.\n"
   ],
   "id": "93eaa40a2e67c017"
  },
  {
   "metadata": {
    "ExecuteTime": {
     "end_time": "2024-12-19T19:56:56.615223Z",
     "start_time": "2024-12-19T19:56:38.643502Z"
    }
   },
   "cell_type": "code",
   "source": [
    "with open ('data/day9.txt') as f:\n",
    "    disk = f.read()\n",
    "\n",
    "def left_shift(disk):\n",
    "    i = next(idx for idx, s in enumerate(disk) if s == '.')\n",
    "    j = len(disk) - 1 - next(idx for idx, s in enumerate(reversed(disk)) if s != '.')\n",
    "    while i < j:\n",
    "        disk[i], disk[j] = disk[j], '.'\n",
    "        i += next(idx for idx, s in enumerate(disk[i:]) if s == '.')\n",
    "        j -= next(idx for idx, s in enumerate(reversed(disk[:j+1])) if s != '.')\n",
    "    return disk\n",
    "\n",
    "def left_shift_files(disk):\n",
    "    file_idx = len(disk) - 1\n",
    "    while file_idx > 0:\n",
    "        file_idx -= next(idx for idx, s in enumerate(reversed(disk[:file_idx+1])) if s[0] != '.')\n",
    "        space_idx = next((idx for idx, i in enumerate(disk[:file_idx]) if i[0] == '.' and len(i) >= len(disk[file_idx])), None)\n",
    "        if space_idx is None:\n",
    "            file_idx -= 1\n",
    "            continue\n",
    "        file, space = disk[file_idx], disk[space_idx]\n",
    "        disk[file_idx] = ['.'] * len(file)\n",
    "        if len(file) == len(space):\n",
    "            disk.pop(space_idx)\n",
    "        else:\n",
    "            disk[space_idx] = ['.'] * (len(space) - len(file))\n",
    "        disk.insert(space_idx, file)\n",
    "    return disk\n",
    "\n",
    "packed_disk = list(itertools.chain.from_iterable([str(i // 2)] * int(s) if i % 2 == 0 else '.' * int(s) for i, s in enumerate(disk)))\n",
    "packed_disk = left_shift(packed_disk)\n",
    "checksum = sum(i * int(n) for i, n in enumerate(packed_disk) if n != '.')\n",
    "disk_files = [\n",
    "    i for i in itertools.chain([str(i // 2)] * int(s) if i % 2 == 0 else ['.'] * int(s) for i, s in enumerate(disk))\n",
    "    if len(i) > 0\n",
    "]\n",
    "disk_files = left_shift_files(disk_files)\n",
    "checksum_files = sum(i * int(n) for i, n in enumerate(itertools.chain.from_iterable(disk_files)) if n != '.')\n",
    "\n",
    "print(f\"Answer 1: {checksum}\")\n",
    "print(f\"Answer 2: {checksum_files}\")"
   ],
   "id": "49addd3797ce101",
   "outputs": [
    {
     "name": "stdout",
     "output_type": "stream",
     "text": [
      "Answer 1: 6330095022244\n",
      "Answer 2: 6359491814941\n"
     ]
    }
   ],
   "execution_count": 91
  },
  {
   "metadata": {},
   "cell_type": "markdown",
   "source": "------------",
   "id": "6374859554b3dba5"
  },
  {
   "metadata": {},
   "cell_type": "markdown",
   "source": "### Day 10: Hoof It 🧲",
   "id": "52d7d99e5cec5903"
  },
  {
   "metadata": {},
   "cell_type": "markdown",
   "source": [
    "I love hiking, but I found out that I hate people who like hiking 🏔️🥾. Skiing is different, people who ski are okay. But of course, when I hike, I don't move only in four directions and the autonomous driving vacuum (i.e., ⬆️,⬅️,➡️,⬇️).\n",
    "\n",
    "I don't like using loops 👨🏾‍💻, but I suppose even using a matrix of deltas we would have one. So, let's use a heap storing a tuple representing `(height, position)`, in this way the `height` is used by the queue as priority and we prioritize positions closer to the destination (i.e., `height = 0`). There is an invisible contributor here 👻. Storing not just the destinations at a height of 0, but also every visited position into the `visited` set reduces the total number of iterations of about 1000.\n",
    "\n",
    "To solve the second part I could have extended the first function to make the code shorter, but maybe in this way is more readable 📔. You remember the set `visited` of visited positions mentioned above to improve performance? Well, if you remove it, you have the solution to the second part 🔚."
   ],
   "id": "9568818f3096b56d"
  },
  {
   "metadata": {
    "ExecuteTime": {
     "end_time": "2024-12-19T21:46:45.419064Z",
     "start_time": "2024-12-19T21:46:45.395381Z"
    }
   },
   "cell_type": "code",
   "source": [
    "m = pd.read_csv('data/day10.txt', delimiter='', engine='python', header=None).to_numpy()[:, 1:-1].astype(int)\n",
    "\n",
    "def get_neighbours(pos, world):\n",
    "    for i, j in ((pos[0], pos[1] + 1), (pos[0], pos[1] - 1), (pos[0] + 1, pos[1]), (pos[0] - 1, pos[1])):\n",
    "        if 0 <= i < world.shape[0] and 0 <= j < world.shape[1]:\n",
    "            yield i, j\n",
    "\n",
    "def score(pos, world):\n",
    "    queue, score, visited = [(9, pos)], 0, set()\n",
    "    while len(queue) > 0:\n",
    "        height, pos = heapq.heappop(queue)\n",
    "        if height == 0 and pos not in visited:\n",
    "            visited.add(pos)\n",
    "            score += 1\n",
    "            continue\n",
    "        visited.add(pos)\n",
    "        for neighbour in get_neighbours(pos, world):\n",
    "            if neighbour not in visited and world[neighbour] == height - 1:\n",
    "                heapq.heappush(queue, (m[neighbour], neighbour))\n",
    "    return score\n",
    "\n",
    "def score_path_count(pos, world):\n",
    "    queue, score = [(9, pos, None)], 0\n",
    "    while len(queue) > 0:\n",
    "        height, pos, father = heapq.heappop(queue)\n",
    "        if height == 0:\n",
    "            score += 1\n",
    "            continue\n",
    "        for neighbour in get_neighbours(pos, world):\n",
    "            if world[neighbour] == height - 1:\n",
    "                heapq.heappush(queue, (m[neighbour], neighbour, pos))\n",
    "    return score\n",
    "\n",
    "total_score = sum(score(top, m) for top in zip(np.where(m == 9)[0], np.where(m == 9)[1]))\n",
    "total_score_path_count = sum(score_path_count(top, m) for top in zip(np.where(m == 9)[0], np.where(m == 9)[1]))\n",
    "\n",
    "print(f\"Answer 1: {total_score}\")\n",
    "print(f\"Answer 2: {total_score_path_count}\")"
   ],
   "id": "1381a971299d6131",
   "outputs": [
    {
     "name": "stdout",
     "output_type": "stream",
     "text": [
      "Answer 1: 566\n",
      "Answer 2: 1324\n"
     ]
    }
   ],
   "execution_count": 148
  },
  {
   "metadata": {},
   "cell_type": "markdown",
   "source": "----------",
   "id": "31c7f32dba8890d3"
  },
  {
   "metadata": {},
   "cell_type": "markdown",
   "source": "### Day 11: Plutonian Pebbles 🌏",
   "id": "ccb36e7dd7896071"
  },
  {
   "metadata": {},
   "cell_type": "markdown",
   "source": [
    "Somebody smoked a joint this year 🧉 (mate). How is it possible that now we are talking about Pluto? Aren't we supposed to help Santa with toys 🚂? By the way, i'm a bit afraid of the number of stones we can obtain, this seems a fast-growing factor. Having these kind of stones that automatically duplicate would be helpful on Earth, but I think we need more trees 🌳 than stones 🪨. And I'm not just talking about Christmas trees 🎄. Blink blink 🚨.\n",
    "\n"
   ],
   "id": "fb6f5873dedba40a"
  },
  {
   "metadata": {
    "ExecuteTime": {
     "end_time": "2024-12-20T21:24:35.925014Z",
     "start_time": "2024-12-20T21:24:35.823184Z"
    }
   },
   "cell_type": "code",
   "source": [
    "with open ('data/day11.txt') as f:\n",
    "    stones = list(map(int, f.read().split(' ')))\n",
    "\n",
    "def blink_stone(stone):\n",
    "    if stone == 0: return (1, )\n",
    "    if (i := len(str(stone))) % 2 == 0: return int(str(stone)[:i // 2]), int(str(stone)[i // 2:])\n",
    "    else: return (stone * 2024, )\n",
    "\n",
    "def blink(counter, iter):\n",
    "    for _ in range(iter):\n",
    "        for stone, count in tuple(counter.items()):\n",
    "            for i in blink_stone(stone):\n",
    "                counter[i] += count\n",
    "            counter[stone] -= count\n",
    "    return counter\n",
    "\n",
    "new_stones_25 = blink(collections.defaultdict(int, collections.Counter(stones)), 25)\n",
    "new_stones_75 = blink(collections.defaultdict(int, new_stones_25), 50)\n",
    "print(f\"Answer 1: {sum(new_stones_25.values())}\")\n",
    "print(f\"Answer 2: {sum(new_stones_75.values())}\")"
   ],
   "id": "25f5c7cfca6366ce",
   "outputs": [
    {
     "name": "stdout",
     "output_type": "stream",
     "text": [
      "Answer 1: 197357\n",
      "Answer 2: 234568186890978\n"
     ]
    }
   ],
   "execution_count": 51
  },
  {
   "metadata": {},
   "cell_type": "markdown",
   "source": "--------",
   "id": "f4b3207a21dd04c0"
  },
  {
   "metadata": {},
   "cell_type": "markdown",
   "source": "### Day 12: Garden Groups 🥕",
   "id": "8b3f0c094303b2c6"
  },
  {
   "metadata": {},
   "cell_type": "markdown",
   "source": [
    "Oh, finally some nature and vegetables 🐇. What's gonna be the future? Vegetarianism 🥦 or cannibalism 🍖? The second seems promising to me, more protein, and we solve the problem of fast-growing population. We just need a way to select who we want to eat.\n",
    "\n",
    "For the first part we can start from a random point of each area and then doing a kind of breath first search to find all positions occupied by that area 🔎. For the second part I store the positions part of the perimeter in a set to compute the number of sides later in `get_sides`, by taking into account that the number of sides is essentially the number of corners. I'm sure it's not the most efficient way, but it should be enough 💨. Solve first, optimize if you are not too lazy 🧋.\n",
    "\n",
    "The negotiation ability of the Elves is impressive 💶. I would like they to help me to buy a house here in Barcelona 🏡🪴, I need a bigger terrace for the cat and a wooden floor 🪵.\n",
    "\n",
    "By the way, this Day 12 was tricky. Hope in a more relaxing following since Santa is not paying me 🥵."
   ],
   "id": "575cc33f2670d96c"
  },
  {
   "metadata": {
    "ExecuteTime": {
     "end_time": "2024-12-22T20:15:44.450242Z",
     "start_time": "2024-12-22T20:15:43.386289Z"
    }
   },
   "cell_type": "code",
   "source": [
    "field = pd.read_csv('data/day12.txt', sep='', engine='python', header=None).to_numpy()[:, 1:-1]\n",
    "\n",
    "def get_perimeter(t, pos, field):\n",
    "    X, Y = field.shape\n",
    "    up = int(pos[0] == 0 or field[pos[0] - 1, pos[1]] != t)\n",
    "    down = int(pos[0] == X - 1 or field[pos[0] + 1, pos[1]] != t)\n",
    "    left =  int(pos[1] == 0 or field[pos[0], pos[1] - 1] != t)\n",
    "    right = int(pos[1] == Y - 1 or field[pos[0], pos[1] + 1] != t)\n",
    "    return up + down + left + right\n",
    "\n",
    "def neighbours(pos, field):\n",
    "    return tuple( (i, j)\n",
    "        for i, j in ((pos[0] - 1, pos[1]), (pos[0] + 1, pos[1]), (pos[0], pos[1] - 1), (pos[0], pos[1] + 1))\n",
    "        if 0 <= i < field.shape[0] and 0 <= j < field.shape[1])\n",
    "\n",
    "def get_region(root, field):\n",
    "    queue, t, area, perimeter, pos_set = [root], field[root], 0, 0, {root}\n",
    "    while len(queue) > 0:\n",
    "        pos = heapq.heappop(queue)\n",
    "        area += 1\n",
    "        perimeter += get_perimeter(t, pos, field)\n",
    "        for i in neighbours(pos, field):\n",
    "            if field[i] == t and i not in pos_set:\n",
    "                heapq.heappush(queue, i)\n",
    "                pos_set.add(i)\n",
    "    sides_count = get_sides(pos_set, field)\n",
    "    return perimeter, area, sides_count, pos_set\n",
    "\n",
    "def get_regions_cost(t, field):\n",
    "    positions = set((int(i), int(j)) for i, j in zip(np.where(field == t)[0], np.where(field == t)[1]))\n",
    "    total_cost, total_cost_discount = 0, 0\n",
    "    while len(positions) > 0:\n",
    "        p, a, s, region_pos = get_region(positions.pop(), field)\n",
    "        total_cost += a * p\n",
    "        total_cost_discount += a * s\n",
    "        positions -= region_pos\n",
    "    return total_cost, total_cost_discount\n",
    "\n",
    "def get_sides(positions, field):\n",
    "    # create a matrix representing only the interested area\n",
    "    x = np.zeros(field.shape)\n",
    "    positions_array = np.array(list(positions))\n",
    "    x[positions_array[:, 0], positions_array[:, 1]] = 1\n",
    "    # pad to work also on positions on the side\n",
    "    x = np.pad(x, (1, 1))\n",
    "    # get corners via convolution\n",
    "    min_x, max_x = np.where(x == 1)[0].min(), np.where(x == 1)[0].max()\n",
    "    min_y, max_y = np.where(x == 1)[1].min(), np.where(x == 1)[1].max()\n",
    "    corners =  sum(\n",
    "        int(x[i:i+2, j:j+2].sum() in {1, 3}) + \\\n",
    "            2 * int(np.array_equal(x[i:i+2, j:j+2], np.array([[1,0],[0,1]]))) + \\\n",
    "            2 * int(np.array_equal(x[i:i+2, j:j+2], np.array([[0,1],[1,0]])))\n",
    "        for i in range(min_x - 1, max_x + 1)\n",
    "        for j in range(min_y - 1, max_y + 1)\n",
    "    )\n",
    "    return corners\n",
    "\n",
    "\n",
    "price = sum(get_regions_cost(plant_type, field)[0] for plant_type in np.unique(field))\n",
    "price_discount = sum(get_regions_cost(plant_type, field)[1] for plant_type in np.unique(field))\n",
    "\n",
    "print(f\"Answer 1: {price}\")\n",
    "print(f\"Answer 2: {price_discount}\")"
   ],
   "id": "749b06ff6ea1d311",
   "outputs": [
    {
     "name": "stdout",
     "output_type": "stream",
     "text": [
      "Answer 1: 1456082\n",
      "Answer 2: 872382\n"
     ]
    }
   ],
   "execution_count": 83
  },
  {
   "metadata": {},
   "cell_type": "markdown",
   "source": "---------",
   "id": "a902b09db143276b"
  },
  {
   "metadata": {},
   "cell_type": "markdown",
   "source": "### Day 13: Claw Contraption 🕹️",
   "id": "91bcec382c6df1e1"
  },
  {
   "metadata": {},
   "cell_type": "markdown",
   "source": [
    "For the first part an exhaustive search is enough. Pretty sure we would need something smarter for the second part. I know my chickens 🐓.\n",
    "\n",
    "Here we go, we are just `10000000000000` times wrong. Oh, if I had started in C 🤓! Use math idiot, or Julia, I like Julia, but together with math. Everything can be reduced to the following system of equations:\n",
    "```\n",
    "i * a_x + j * b_x = p_x\n",
    "i * a_y + j * b_y = p_y\n",
    "```\n",
    "which after few steps becomes:\n",
    "```\n",
    "i = (b_y * p_x - b_x * p_y) / (a_x * b_y - a_y * b_x)\n",
    "j = (a_y * p_x - a_x * p_y) / (a_y * b_x - a_x * b_y)\n",
    "```\n",
    "We jusssst 🐍 need to compute following equations and see if `i` and `j` are integer hoping in floating points precision 😬.\n",
    "\n",
    "I discovered the `float.is_integer()` function. I've always done `int(x) == x` to verify the condition. This would be a good exercise to solve via branch and bound, but Christmas is coming, maybe later, we have no time ⏰."
   ],
   "id": "84c9120b02ab3511"
  },
  {
   "metadata": {
    "ExecuteTime": {
     "end_time": "2024-12-23T00:32:49.225213Z",
     "start_time": "2024-12-23T00:32:49.216236Z"
    }
   },
   "cell_type": "code",
   "source": [
    "data, a_cost, b_cost, inc_factor = [], 3, 1, 10000000000000\n",
    "with open ('data/day13.txt') as f:\n",
    "    game = []\n",
    "    for line in f:\n",
    "        if line == '\\n':\n",
    "            data.append(tuple(game))\n",
    "            game = []\n",
    "        elif 'Button A' in line:\n",
    "            game.append(tuple(map(int, line.replace('Button A: X+', '').replace(' Y+', '').split(','))))\n",
    "        elif 'Button B' in line:\n",
    "            game.append(tuple(map(int, line.replace('Button B: X+', '').replace(' Y+', '').split(','))))\n",
    "        elif 'Prize' in line:\n",
    "            game.append(tuple(map(int, line.replace('Prize: X=', '').replace(' Y=', '').split(','))))\n",
    "\n",
    "def play_game(a, b, prize, max_iter=100):\n",
    "    return min((i * a_cost + j * b_cost for i in range(max_iter) for j in range(max_iter) if np.array_equal(a * i + b * j, prize)), default=0)\n",
    "\n",
    "def play_game_with_math(a, b, p):\n",
    "    i = (b[1] * p[0] - b[0] * p[1]) / (a[0] * b[1] - a[1] * b[0])\n",
    "    j = (a[1] * p[0] - a[0] * p[1]) / (a[1] * b[0] - a[0] * b[1])\n",
    "    return i * a_cost + j * b_cost if i.is_integer() and j.is_integer() and i >= 0 and j >= 0 else 0\n",
    "\n",
    "price = sum(play_game_with_math(np.asarray(a), np.asarray(b), np.asarray(prize)) for a, b, prize in data)\n",
    "real_price = sum(play_game_with_math(np.asarray(a), np.asarray(b), np.asarray(prize) + inc_factor) for a, b, prize in data)\n",
    "\n",
    "print(f\"Answer 1: {price}\")\n",
    "print(f\"Answer 2: {real_price}\")"
   ],
   "id": "e6e70ae06b7f727a",
   "outputs": [
    {
     "name": "stdout",
     "output_type": "stream",
     "text": [
      "Answer 1: 35729.0\n",
      "Answer 2: 88584689879723.0\n"
     ]
    }
   ],
   "execution_count": 49
  },
  {
   "metadata": {},
   "cell_type": "markdown",
   "source": "----------",
   "id": "f76ee1334a8c27e9"
  },
  {
   "metadata": {},
   "cell_type": "markdown",
   "source": "### Day 14: Restroom Redoubt 🚽",
   "id": "64a9f46237eeaef"
  },
  {
   "metadata": {},
   "cell_type": "markdown",
   "source": [
    "We have to poo 💩, we have no time for buying a bottle of water 🍷, stupid bartender! The robots have extendable legs, quadcopter, and springs to avoid to each other 🤖, I think saying they were flying at different altitudes would have been enough 📏.\n",
    "\n",
    "I realized later that `x` and `y` components of positions and speed are not `row` and `column` in a matrix, instead the exact opposite. This is a bad trick. Let's `[::-1]`. I wonder if I'm stupid or somebody else made the same miskate 🤦🏻‍♂️, please write in the comment (as youtubers say) 💬.\n",
    "\n",
    "Easter egg 🐣, Christmas tree 🎄, things are getting confusing here. The question is very vague. What is supposed to be a Christmas tree shape? Moreover, it says \"most of the robots\", this makes me think not all the robots are contributing to this shape 🧐.\n",
    "\n",
    "I want to be honest. I was kind of pissed off by this request. I was thinking to a stupid triangular shape appearing after some iterations ⚠️. Then I decided to use a distance (in my case Manhattan distance -- but I think every distance is fine) to find the iteration minimizing the average distance to the centroid (yes, I copied it from internet). But, when I saw this amazing Christmas tree, everything is forgiven 🤩. Look how amazing is this Christmas tree! 🎅🏽\n",
    "\n",
    "⭐️❄️🎁 Merry Christmas Everybody ⭐️❄️🎁"
   ],
   "id": "ae1b040e168c2be0"
  },
  {
   "metadata": {
    "ExecuteTime": {
     "end_time": "2024-12-23T18:25:37.963163Z",
     "start_time": "2024-12-23T18:25:12.051407Z"
    }
   },
   "cell_type": "code",
   "outputs": [
    {
     "name": "stdout",
     "output_type": "stream",
     "text": [
      "Answer 1: 217132650\n",
      "Answer 3: 6516\n"
     ]
    },
    {
     "data": {
      "text/plain": [
       "<matplotlib.image.AxesImage at 0x157906150>"
      ]
     },
     "execution_count": 122,
     "metadata": {},
     "output_type": "execute_result"
    },
    {
     "data": {
      "text/plain": [
       "<Figure size 470.68x480 with 1 Axes>"
      ],
      "image/png": "[encoded data removed]"
     },
     "metadata": {},
     "output_type": "display_data"
    }
   ],
   "execution_count": 122,
   "source": [
    "with open ('data/day14.txt') as f:\n",
    "    robots = tuple(tuple(map(lambda i: tuple(map(int, i.split(','))), line.replace('p=', '').replace('v=', '').split(' '))) for line in f)\n",
    "\n",
    "def future_room(robots, room_shape, steps=100):\n",
    "    normalizer = np.array(room_shape)\n",
    "    room = np.zeros(room_shape, dtype=int)\n",
    "    positions = []\n",
    "    for robot in robots:\n",
    "        p, v = np.asarray(robot[0])[::-1], np.asarray(robot[1])[::-1]\n",
    "        new_p = (p + v * steps) % normalizer\n",
    "        room[new_p[0], new_p[1]] += 1\n",
    "        positions.append(new_p)\n",
    "    return room, np.array(positions)\n",
    "\n",
    "def get_safety_factor(room):\n",
    "    X, Y = room.shape\n",
    "    q1 = room[0:X // 2, 0:Y // 2].sum()\n",
    "    q2 = room[0:X // 2, Y // 2 + 1:Y].sum()\n",
    "    q3 = room[X // 2 + 1:X, 0:Y // 2].sum()\n",
    "    q4 = room[X // 2 + 1:X, Y // 2 + 1:Y].sum()\n",
    "    return (q1 * q2 * q3 * q4).item()\n",
    "\n",
    "def distance_to_centroid(room, positions):\n",
    "    centroid = np.array([np.mean(positions[:, 0]), np.mean(positions[:, 1])])\n",
    "    return statistics.mean(np.sum(np.abs(pos - centroid)) for pos in positions)\n",
    "\n",
    "new_room, positions = future_room(robots, (103, 101))\n",
    "sf = get_safety_factor(new_room)\n",
    "steps_to_christamas_tree = min(range(10_000), key=lambda i: distance_to_centroid(*future_room(robots, (103, 101), steps=i)))\n",
    "\n",
    "print(f\"Answer 1: {sf}\")\n",
    "print(f\"Answer 3: {steps_to_christamas_tree}\")\n",
    "plt.matshow(future_room(robots, (103, 101), steps=6516)[0], cmap=ListedColormap(['r', 'g']))"
   ],
   "id": "8d595b60ecb9d2e9"
  },
  {
   "metadata": {},
   "cell_type": "markdown",
   "source": "------------",
   "id": "638296cb7d282d35"
  },
  {
   "metadata": {},
   "cell_type": "markdown",
   "source": "### Day 15: Warehouse Woes ⚓️",
   "id": "f5adb2da9d21c770"
  },
  {
   "metadata": {},
   "cell_type": "markdown",
   "source": [
    "Instead of writing a move in any direction (as I did also in some of the past days), I'll code the move just once from left to right `left -> right` (easier to read for an european -- maybe less for an arabic or chinese), and I'll rotate the matrix of space in case the movement is in another direction. So, the rotations 🛞 will be the followings:\n",
    "- `>`: roatate of `0` degrees\n",
    "- `^`: roatate of `90` degrees\n",
    "- `<`: roatate of `180` degrees\n",
    "- `v`: roatate of `270` degrees\n",
    "I think in this way the code is gonna be cleaner.\n",
    "\n",
    "It worked. The code seems shorter and cleaner: awarded 👨🏾‍⚖️. The move is simple, if at the right of the robot I see a spece I simply move the robot, if there is a box I firstly check if at right of box there is a space and if this space is not coming after a wall (we hve boxes, not ghosts 👻, otherwise it would be an advent to halloween 🎃).\n",
    "\n",
    "For the second part we need a different warehouse I originally will call `wh2`. The only thing that is preventing us from working with elements of 2 `char`(e.g., `##`, `[]`) in the array representing space is the fact that movements are still of 1 step, and that fucking space appearing at the right of the robot in `@.` 🖕🏼. Let me think about it...💭.\n",
    "\n",
    "I think there is no work around. We need to rewrite our `apply_move`, but before doing this I enumerate the obstacles to better understand which is the counter part of each `[` or `]` whenever I need to move it. This is kind of boring, the first part is often okay, the second it seems they are just trying to make previous part more complicated but they just make it more boring. You are not forced to propose a part 2 guys 🚫, I already do enough boring things at work 💼.\n",
    "\n",
    "I need a `get_movables` method to get all boxes we are moving together. Finally, `apply_move_2` is a great showing of how concise code can be using `numpy`."
   ],
   "id": "5b9ab0781e7f669f"
  },
  {
   "metadata": {
    "ExecuteTime": {
     "end_time": "2024-12-25T04:49:50.185002Z",
     "start_time": "2024-12-25T04:49:47.592276Z"
    }
   },
   "cell_type": "code",
   "source": [
    "with open ('data/day15.txt') as f:\n",
    "    lines = list(f.readlines())\n",
    "    sep = next(i for i, line in enumerate(lines) if line == '\\n')\n",
    "    wh = np.asarray(list(map(lambda i: list(i.replace('\\n', '')), lines[:sep])))\n",
    "    wh2 = np.asarray(list(map(lambda i: list(i.replace('\\n', '').replace('.','..').replace('@','@.').replace('#', '##').replace('O','[]')), lines[:sep]))).astype(object)\n",
    "    for n, (openx, openy, closex, closey) in enumerate(zip(np.where(wh2 == '[')[0], np.where(wh2 == '[')[1], np.where(wh2 == ']')[0], np.where(wh2 == ']')[1])):\n",
    "        wh2[openx, openy], wh2[closex, closey] = str(n), str(n)\n",
    "    box_id = set(map(str, range(n + 1)))\n",
    "    moves = ''.join(lines[sep+1:]).replace('\\n', '')\n",
    "\n",
    "def rotate(wh, move, reverse=False):\n",
    "    return np.rot90(wh, ['>', '^', '<', 'v'].index(move), axes=(1, 0) if not reverse else (0, 1))\n",
    "\n",
    "def get_pos(wh):\n",
    "    return tuple(np.concat(np.where(wh == '@')))\n",
    "\n",
    "def apply_move(wh, move):\n",
    "    wh = rotate(wh, move)\n",
    "    pos = get_pos(wh)\n",
    "    if wh[pos[0], pos[1] + 1] == '.':\n",
    "        wh[pos], wh[pos[0], pos[1] + 1] = '.', '@'\n",
    "    elif wh[pos[0], pos[1] + 1] == 'O' and \\\n",
    "        (next_empty := next((pos[1] + 1 + j for j, v in enumerate(wh[pos[0], pos[1] + 1:]) if v == '.'), None)) is not None and \\\n",
    "        (next_wall := next((pos[1] + 1 + j for j, v in enumerate(wh[pos[0], pos[1] + 1:]) if v == '#'), float('inf'))) > next_empty:\n",
    "        wh[pos[0], pos[1] + 1 : next_empty + 1], wh[pos] = wh[pos[0], pos[1] : next_empty], '.'\n",
    "    return rotate(wh, move, reverse=True)\n",
    "\n",
    "def get_movables(box, wh):\n",
    "    movables, queue = set(), [box]\n",
    "    while len(queue) > 0:\n",
    "        cb = heapq.heappop(queue)\n",
    "        movables.add(cb)\n",
    "        x, y = np.where(wh == cb)\n",
    "        neighbours = set(wh[x, y + 1]) - {'#', '.', cb}\n",
    "        for i in neighbours: heapq.heappush(queue, i)\n",
    "    return movables\n",
    "\n",
    "def apply_move_2(wh, move, box_id):\n",
    "    wh = rotate(wh, move)\n",
    "    pos = get_pos(wh)\n",
    "    if wh[pos[0], pos[1] + 1] == '.':\n",
    "        wh[pos], wh[pos[0], pos[1] + 1] = '.', '@'\n",
    "    elif wh[pos[0], pos[1] + 1] in box_id:\n",
    "        movables = get_movables(wh[pos[0], pos[1] + 1], wh)\n",
    "        movables_x, movables_y = np.where(np.isin(wh, np.array(list(movables))))\n",
    "        if np.all(wh[movables_x, movables_y + 1] != '#'):\n",
    "            to_move = wh[movables_x, movables_y]\n",
    "            wh[movables_x, movables_y] = '.'\n",
    "            wh[movables_x, movables_y + 1] = to_move\n",
    "            wh[pos[0], pos[1] + 1] = '@'\n",
    "            wh[pos[0], pos[1]] = '.'\n",
    "    return rotate(wh, move, reverse=True)\n",
    "\n",
    "wh = functools.reduce(lambda cwh, move: apply_move(cwh, move), moves, wh)\n",
    "x, y = np.where(np.asarray(wh) == 'O')\n",
    "coordinates_cost = np.sum(x * 100 + y).item()\n",
    "\n",
    "wh2 = functools.reduce(lambda cwh, move: apply_move_2(cwh, move, box_id), moves, wh2)\n",
    "coordinates_cost2 = sum(np.where(wh2 == i)[0].min() * 100 + np.where(wh2 == i)[1].min() for i in box_id)\n",
    "\n",
    "print(f\"Answer 1: {coordinates_cost}\")\n",
    "print(f\"Answer 2: {coordinates_cost2}\")"
   ],
   "id": "71f4b750b027780",
   "outputs": [
    {
     "name": "stdout",
     "output_type": "stream",
     "text": [
      "Answer 1: 1398947\n",
      "Answer 2: 1397393\n"
     ]
    }
   ],
   "execution_count": 33
  },
  {
   "metadata": {},
   "cell_type": "markdown",
   "source": "---------",
   "id": "f6e4b4f204651922"
  },
  {
   "metadata": {},
   "cell_type": "markdown",
   "source": "### Day 16: Reindeer Maze 🧶",
   "id": "63b355b3f053c401"
  },
  {
   "metadata": {},
   "cell_type": "markdown",
   "source": [
    "A clew, as the one used by Minosse to exit the labyrinth with the Minotaur (since we are talking about a labyrinth). Anglosaxon culture is so poor. Mediterranean people have so many stories and history to tell 🏛️🏺.\n",
    "\n",
    "This is simply a Dijkstra or an A* with an additional cost per each move due to the rotation. This also means we cannot simply store a visited position in the set of covered once, but we need to consider position and rotation or side from which we entered the new position. Seems much more fun than the previous ones 🤡."
   ],
   "id": "d00b75f028ec014d"
  },
  {
   "metadata": {},
   "cell_type": "code",
   "outputs": [],
   "execution_count": null,
   "source": "",
   "id": "d04015285ea37218"
  },
  {
   "metadata": {},
   "cell_type": "code",
   "outputs": [],
   "execution_count": null,
   "source": "",
   "id": "b881beed989c3382"
  }
 ],
 "metadata": {
  "kernelspec": {
   "display_name": "Python 3",
   "language": "python",
   "name": "python3"
  },
  "language_info": {
   "codemirror_mode": {
    "name": "ipython",
    "version": 2
   },
   "file_extension": ".py",
   "mimetype": "text/x-python",
   "name": "python",
   "nbconvert_exporter": "python",
   "pygments_lexer": "ipython2",
   "version": "2.7.6"
  }
 },
 "nbformat": 4,
 "nbformat_minor": 5
}
