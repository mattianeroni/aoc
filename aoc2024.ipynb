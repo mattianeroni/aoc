{
 "cells": [
  {
   "metadata": {},
   "cell_type": "markdown",
   "source": "##  ‧₊˚🎄✩ ₊˚🦌⊹♡ Advent of Code 2024 ‧₊˚🎄✩ ₊˚🦌⊹♡",
   "id": "febf7117868c140b"
  },
  {
   "metadata": {},
   "cell_type": "markdown",
   "source": "The resolutions for the new year are to have a good trade off between shortness, readability and performance",
   "id": "2f57e656974f8b55"
  },
  {
   "cell_type": "code",
   "id": "initial_id",
   "metadata": {
    "collapsed": true,
    "ExecuteTime": {
     "end_time": "2024-12-15T16:01:51.280447Z",
     "start_time": "2024-12-15T16:01:50.589869Z"
    }
   },
   "source": [
    "import operator\n",
    "import itertools\n",
    "import functools\n",
    "import collections\n",
    "import numpy as np\n",
    "import pandas as pd"
   ],
   "outputs": [],
   "execution_count": 2
  },
  {
   "metadata": {},
   "cell_type": "markdown",
   "source": "----------",
   "id": "9e52f648a8325244"
  },
  {
   "metadata": {},
   "cell_type": "markdown",
   "source": "### Day 1: Historian Hysteria 🎄",
   "id": "97caf0aea5fc0f01"
  },
  {
   "metadata": {},
   "cell_type": "markdown",
   "source": "Easy start. Using `pandas` makes the import a bit cleaner to me in this first game.",
   "id": "96e1c639ced4ff8b"
  },
  {
   "metadata": {
    "ExecuteTime": {
     "end_time": "2024-12-13T14:19:53.557083Z",
     "start_time": "2024-12-13T14:19:53.546670Z"
    }
   },
   "cell_type": "code",
   "source": [
    "df = pd.read_csv('data/day1.txt', sep='   ', header=None, engine='python')\n",
    "\n",
    "delta = np.abs(np.sort(df[0]) - np.sort(df[1])).sum()\n",
    "counter = collections.Counter(df[1])\n",
    "delta_diff = sum(i * counter[i] for i in df[0])\n",
    "\n",
    "print(f\"Answer 1: {delta}\")\n",
    "print(f\"Answer 2: {delta_diff}\")"
   ],
   "id": "bd4e0dee3ad64d3",
   "outputs": [
    {
     "name": "stdout",
     "output_type": "stream",
     "text": [
      "Answer 1: 2375403\n",
      "Answer 2: 23082277\n"
     ]
    }
   ],
   "execution_count": 10
  },
  {
   "metadata": {},
   "cell_type": "markdown",
   "source": "-----------",
   "id": "1adc687909e00573"
  },
  {
   "metadata": {},
   "cell_type": "markdown",
   "source": "### Day 2: Red-Nosed Reports 🦌🔴",
   "id": "50ba7d598634608c"
  },
  {
   "metadata": {},
   "cell_type": "markdown",
   "source": "Less clean than the solution proposed for instance by Peter Norvig but more efficient. Also, in `is_safe_repair`, Peter tries all the combinations while just the first one is enough because the texts says it is feasible if we can repair ONE infeasibility. But it's okay, Google is Google and capitalism is 💩.",
   "id": "61426e535f01c998"
  },
  {
   "metadata": {
    "ExecuteTime": {
     "end_time": "2024-12-13T14:41:16.184479Z",
     "start_time": "2024-12-13T14:41:16.168961Z"
    }
   },
   "cell_type": "code",
   "source": [
    "with open ('data/day2.txt') as f:\n",
    "    rows = [list(m(int, line.split(' '))) for line in f]\n",
    "\n",
    "def inrange(delta):\n",
    "    return 1 <= abs(delta) <= 3\n",
    "\n",
    "def is_safe(row):\n",
    "    rowthread = int(row[0] > row[-1])\n",
    "    return all(int(i > j) == rowthread and inrange(i - j) for i, j in zip(row, row[1:]))\n",
    "\n",
    "def is_safe_repair(row):\n",
    "    rowthread = int(row[0] > row[-1])\n",
    "    idx = next(idx for idx, (i, j) in enumerate(zip(row, row[1:])) if int(i > j) != rowthread or not inrange(i - j))\n",
    "    return is_safe(row[:idx] + row[idx + 1:]) or is_safe(row[:idx + 1] + row[idx + 2:])\n",
    "\n",
    "safe_count = sum(1 for row in rows if is_safe(row))\n",
    "safe_repair = sum(1 for row in rows if is_safe(row) or is_safe_repair(row))\n",
    "\n",
    "print(\"Answer 1: \", safe_count)\n",
    "print(\"Answer 2: \", safe_repair)"
   ],
   "id": "5ff44242e5f3bfbb",
   "outputs": [
    {
     "name": "stdout",
     "output_type": "stream",
     "text": [
      "Answer 1:  356\n",
      "Answer 2:  413\n"
     ]
    }
   ],
   "execution_count": 17
  },
  {
   "metadata": {},
   "cell_type": "markdown",
   "source": "-------",
   "id": "e113bed4cdffc4f4"
  },
  {
   "metadata": {},
   "cell_type": "markdown",
   "source": "### Day 3: Mull It Over 📖",
   "id": "c630bcad26988bd8"
  },
  {
   "metadata": {},
   "cell_type": "markdown",
   "source": [
    "The book in the title is because we are doing string manipulation, the most horrible of all tasks. Together with carbon for bad kids ⛽️ because I don't want to lose time on this. The `import re` is here because I hope I don't need regex anymore.\n",
    "\n",
    "Curious that `mul` is also a function in the `operator` module, so we can use `eval('operator.' + mulstr)` after importing `operator` to evaluate a multiplication ⚡️.\n",
    "\n",
    "I'm definetly not an expert, but it seems regex multiline is not working, that's why `text.replace('\\n', '')`. I like the 💄 emoji.\n",
    "\n",
    "Please note this solution is not working in case of a deactivation `don't()` at the end not followed by any `do()`, but I verified this was not the case in the dataset and, again, I hate losing time on strings manipulation."
   ],
   "id": "f0e50346ba9c3a25"
  },
  {
   "metadata": {
    "ExecuteTime": {
     "end_time": "2024-12-13T16:25:16.842754Z",
     "start_time": "2024-12-13T16:25:16.829225Z"
    }
   },
   "cell_type": "code",
   "source": [
    "import re\n",
    "\n",
    "with open ('data/day3.txt') as f:\n",
    "    text = f.read()\n",
    "\n",
    "def compile(mulstr):\n",
    "    return eval('operator.' + mulstr)\n",
    "\n",
    "total = sum(compile(i) for i in re.findall(r'mul\\(\\d+,\\d+\\)', text))\n",
    "active_text = re.sub(r\"don't\\(\\).*?(do\\(\\)|$)\", \"💄\", text.replace('\\n', ''))\n",
    "active_total = sum(compile(i) for i in re.findall(r'mul\\(\\d+,\\d+\\)', active_text))\n",
    "\n",
    "print(\"Answer 1: \", total)\n",
    "print(\"Answer 2: \", active_total)"
   ],
   "id": "c1530bd9003384fa",
   "outputs": [
    {
     "name": "stdout",
     "output_type": "stream",
     "text": [
      "Answer 1:  184576302\n",
      "Answer 2:  118173507\n"
     ]
    }
   ],
   "execution_count": 4
  },
  {
   "metadata": {},
   "cell_type": "markdown",
   "source": "--------------",
   "id": "50c4c8470675d9f5"
  },
  {
   "metadata": {},
   "cell_type": "markdown",
   "source": "### Day 4: Ceres Search 🍺",
   "id": "8269cb171ecb6cf4"
  },
  {
   "metadata": {},
   "cell_type": "markdown",
   "source": [
    "As italian, the Ceres to me is a beer 🍺. And the input is a beautiful 140 x 140 matrix, and to me this means `numpy`.\n",
    "Curious that I wrote the first function `get_xmas_in_line` to detect horizontal written XMAS and I realized, first, that it was possible to use it for vertically written XMAS by simply transposing the matrix, then, that it was possible to use it for diagonal XMAS as well 🤯 by rolling separately each column. However, it was getting too complicated and I opted for a simple nested for loop 🫏.\n",
    "\n",
    "Like `a` becomes `b` by rolling column 0 by 0, column 1 by -1, column 2 by -2 and column 3 by -3.\n",
    "```\n",
    "a = [[X # # #]\n",
    "     [# M # #]\n",
    "     [# # A #]\n",
    "     [# # # S]]\n",
    "b = [[X M A S]\n",
    "     [# # # #]\n",
    "     [# # # #]\n",
    "     [# # # #]]\n",
    "```\n",
    "\n",
    "Second part on X-MAS reminds me a porn (that's why `get_xmas_diagonal_porn`function).\n",
    "\n",
    "Horrible idea using `numpy`, I give myself a 5 this time. Julia functions vectorization is way cleaner by the way."
   ],
   "id": "8ea5894d329352f5"
  },
  {
   "metadata": {
    "ExecuteTime": {
     "end_time": "2024-12-13T17:40:50.001028Z",
     "start_time": "2024-12-13T17:40:49.326230Z"
    }
   },
   "cell_type": "code",
   "source": [
    "with open ('data/day4.txt') as f:\n",
    "    data = np.array([list(line.replace('\\n', '')) for line in f])\n",
    "\n",
    "def get_xmas_in_line(matrix, rolling):\n",
    "    xmas, samx = np.array(['X', 'M', 'A', 'S']), np.array(['S', 'A', 'M', 'X'])\n",
    "    rolled_matrix = np.roll(matrix, rolling, axis=1)\n",
    "    rolled_matrix[:, :rolling] = \"N\"\n",
    "    return int(np.all( rolled_matrix.reshape((-1, 4)) == xmas, axis=1).astype(int).sum()) + \\\n",
    "           int(np.all( rolled_matrix.reshape((-1, 4)) == samx, axis=1).astype(int).sum())\n",
    "\n",
    "def get_numeric_matrix(matrix):\n",
    "    num = np.zeros(matrix.shape)\n",
    "    for letter, number in zip(('X', 'M', 'A', 'S'), range(1, 5)):\n",
    "        num[matrix == letter] = number\n",
    "    return num\n",
    "\n",
    "def get_xmas_diagonal(matrix):\n",
    "    xmas, samx = np.array([1,2,3,4]), np.array([4,3,2,1])\n",
    "    return sum(\n",
    "        sum([\n",
    "            int(np.array_equal((matrix[i:i+4, j:j+4] * np.eye(4,4)).sum(axis=0), xmas)),\n",
    "            int(np.array_equal((matrix[i:i+4, j:j+4] * np.eye(4,4)).sum(axis=0), samx)),\n",
    "            int(np.array_equal((matrix[i:i+4, j:j+4] * np.flip(np.eye(4,4), axis=1)).sum(axis=0), xmas)),\n",
    "            int(np.array_equal((matrix[i:i+4, j:j+4] * np.flip(np.eye(4,4), axis=1)).sum(axis=0), samx))\n",
    "        ])\n",
    "        for i in range(matrix.shape[0] - 3) for j in range(matrix.shape[1] - 3)\n",
    "    )\n",
    "\n",
    "def get_xmas_diagonal_porn(matrix):\n",
    "    xeye = np.array([[1, 0, 1], [0, 1, 0], [1, 0, 1]])\n",
    "    return sum(\n",
    "        sum([\n",
    "            int(np.array_equal( matrix[i:i+3, j:j+3] * xeye, np.array([[2, 0, 2],[0, 3, 0],[4, 0, 4]]))),\n",
    "            int(np.array_equal( matrix[i:i+3, j:j+3] * xeye, np.array([[4, 0, 4],[0, 3, 0],[2, 0, 2]]))),\n",
    "            int(np.array_equal( matrix[i:i+3, j:j+3]* xeye, np.array([[4, 0, 2],[0, 3, 0],[4, 0, 2]]))),\n",
    "            int(np.array_equal( matrix[i:i+3, j:j+3]* xeye, np.array([[2, 0, 4],[0, 3, 0],[2, 0, 4]]))),\n",
    "        ])\n",
    "        for i in range(matrix.shape[0] - 2) for j in range(matrix.shape[1] - 2)\n",
    "    )\n",
    "\n",
    "h = sum(get_xmas_in_line(data, rolling=i) for i in range(4))\n",
    "v = sum(get_xmas_in_line(data.T, rolling=i) for i in range(4))\n",
    "d = get_xmas_diagonal(get_numeric_matrix(data))\n",
    "xd = get_xmas_diagonal_porn(get_numeric_matrix(data))\n",
    "print(\"Answer 1: \", h + v + d)\n",
    "print(\"Answer 2: \", xd)"
   ],
   "id": "d37c9e55bb3980f2",
   "outputs": [
    {
     "name": "stdout",
     "output_type": "stream",
     "text": [
      "Answer 1:  2358\n",
      "Answer 2:  1737\n"
     ]
    }
   ],
   "execution_count": 66
  },
  {
   "metadata": {},
   "cell_type": "markdown",
   "source": "------------",
   "id": "6092bd4cae27284a"
  },
  {
   "metadata": {},
   "cell_type": "markdown",
   "source": "### Day 5: Print Queue 🦚",
   "id": "c0699b4be0a6b536"
  },
  {
   "metadata": {},
   "cell_type": "markdown",
   "source": [
    "Tail, queue, that's why the peacock. Somebody says this is ADHD. To me it's fantasy. I hate these stupid sequences that respect rules 👮🏾 slaves of the state.\n",
    "\n",
    "I was sure Python offered the possibility to sort by a comparison function but it was not. This is a shame. Another +1 to Julia. In general this was a pretty boring one. No reason to comment the procedure. Of course, the most efficient way to repair the sequences was to use a tree, but given the size of sequences this complication is not justified. As always happens, the state does not invest much in reintegrating who doesn't respect rules 🚔🚓."
   ],
   "id": "4d41a82fbe1c49c2"
  },
  {
   "metadata": {
    "ExecuteTime": {
     "end_time": "2024-12-13T18:15:36.509951Z",
     "start_time": "2024-12-13T18:15:36.495891Z"
    }
   },
   "cell_type": "code",
   "source": [
    "rules = collections.defaultdict(set)\n",
    "data = []\n",
    "\n",
    "with open ('data/day5.txt') as f:\n",
    "    reading_data = False\n",
    "    for line in f:\n",
    "        if line == '\\n':\n",
    "            reading_data = True\n",
    "            continue\n",
    "        if not reading_data:\n",
    "            rule = line.split('|')\n",
    "            rules[int(rule[0])].add(int(rule[1]))\n",
    "        else:\n",
    "            data.append(list(m(int, line.split(','))))\n",
    "\n",
    "def respect_rules(seq, rules):\n",
    "    return all(len(rules[i] & set(seq[:pos])) == 0 for pos, i in enumerate(seq))\n",
    "\n",
    "def get_middle(seq):\n",
    "    return seq[len(seq) // 2]\n",
    "\n",
    "def fix_sequence(seq, rules):\n",
    "    return sorted(seq, key=functools.cmp_to_key(lambda i, j: -1 if j in rules[i] else 1))\n",
    "\n",
    "respect_rules_count = sum(get_middle(i) for i in data if respect_rules(i, rules))\n",
    "do_not_respect_rules_count = sum(get_middle(fix_sequence(i, rules)) for i in data if not respect_rules(i, rules))\n",
    "\n",
    "print(f\"Answer 1: {respect_rules_count}\")\n",
    "print(f\"Answer 2: {do_not_respect_rules_count}\")"
   ],
   "id": "2db1f960a3e298af",
   "outputs": [
    {
     "name": "stdout",
     "output_type": "stream",
     "text": [
      "Answer 1: 5275\n",
      "Answer 2: 6191\n"
     ]
    }
   ],
   "execution_count": 87
  },
  {
   "metadata": {},
   "cell_type": "markdown",
   "source": "-------",
   "id": "b39ed959756c3aeb"
  },
  {
   "metadata": {},
   "cell_type": "markdown",
   "source": "### Day 6: Guard Gallivant 💂🏻💂🏻💂🏾‍♀️",
   "id": "5841eeff5772665a"
  },
  {
   "metadata": {},
   "cell_type": "markdown",
   "source": [
    "When I started reading the problem I hoped for a few seconds in a request to write a shortest path finding algorithm 🤩(but it was not). Let's call directions `up = 0`, `right = 1`, `down = 2`, `left = 3`. While the `turn` function seems a piece of art, the rest is a bit verbose, but it's okay. The fact of having to deal with directions make it verbose. I'm curious if there's a way to automatically manage directions (maybe simply rotating the matrix of space) 🤔. There is a possibility I'll come back to rewrite this.\n",
    "\n",
    "For the second part 🎬2️⃣, my first intuition was that we need to look at already encountered obstacles, and find 3 of them that together with the new one would form a parallelepiped ▱. Also, we are lucky, because they always need to be in order in the sequence of already found obstacles (this reduces a lot the probabilities 🏎️). But then SBAM 💥, looking at option five presented in the example I realised we can have a loop even without a parallelepiped. In this case a classic brute force should work (around `10`s running time).\n",
    "\n",
    "In the case of the brute force, the loop is detected when the guard pass a second time on a position with also the same direction 🧞‍♂️.\n",
    "\n",
    "Together with the brute force, I also tried to place an obstacle in every position visited at the first round, classifying it as a loop if the guard was redirected into an already visited obstacle with the same direction. This approach although was detecting some non-existent loops. Curious. I still have to figure out why 🐨."
   ],
   "id": "fe4ab141ef16cde5"
  },
  {
   "metadata": {
    "ExecuteTime": {
     "end_time": "2024-12-15T18:41:53.644994Z",
     "start_time": "2024-12-15T18:41:44.041603Z"
    }
   },
   "cell_type": "code",
   "source": [
    "with open ('data/day6.txt') as f:\n",
    "    m = np.array([list(line.replace('\\n', '')) for line in f])\n",
    "    m = np.where(m == '.', 0, np.where(m == '#', 1, -1)).astype(np.int32)\n",
    "\n",
    "def turn(direction):\n",
    "    return (direction + 1) % 4\n",
    "\n",
    "def guard_pos(m):\n",
    "    return tuple(map(int, map(operator.itemgetter(0), np.where(m == -1))))\n",
    "\n",
    "def in_grid(pos, grid):\n",
    "    return 0 <= pos[0] < grid.shape[0] and 0 <= pos[1] < grid.shape[1]\n",
    "\n",
    "def get_visited_pos(orig, dest):\n",
    "    return tuple((orig[0], i) for i in range(orig[1], dest[1], 1 if dest[1] > orig[1] else -1)) if orig[0] == dest[0] \\\n",
    "        else tuple((i, orig[1]) for i in range(orig[0], dest[0], 1 if dest[0] > orig[0] else -1))\n",
    "\n",
    "def next_obstacle(pos, direction, m):\n",
    "    if direction == 0: return next(((i, pos[1]) for i in range(pos[0], -1, -1) if m[i, pos[1]] == 1), (-1, pos[1]))\n",
    "    elif direction == 1: return next(((pos[0], i) for i in range(pos[1], m.shape[1]) if m[pos[0], i] == 1), (pos[0], m.shape[1]))\n",
    "    elif direction == 2: return next(((i, pos[1]) for i in range(pos[0], m.shape[0]) if m[i, pos[1]] == 1), (m.shape[0], pos[1]))\n",
    "    elif direction == 3: return next(((pos[0], i) for i in range(pos[1], -1, -1) if m[pos[0], i] == 1), (pos[0], -1))\n",
    "\n",
    "def simulate_loop(obs_pos, m):\n",
    "    m[obs_pos] = 1\n",
    "    _, loop = get_path(m)\n",
    "    m[obs_pos] = 0\n",
    "    return loop\n",
    "\n",
    "def get_path(m):\n",
    "    direction, visited, visited_with_direction = 0, set(), set()\n",
    "    cpos = guard_pos(m)\n",
    "    while True:\n",
    "        obs = next_obstacle(cpos, direction, m)\n",
    "        newly_visited = get_visited_pos(cpos, obs)\n",
    "        newly_visited_with_direction = set([(i, j, direction) for i, j in newly_visited])\n",
    "        visited.update(newly_visited)\n",
    "        # loop when passing on same position with same direction two times\n",
    "        if len(newly_visited_with_direction & visited_with_direction) > 0:\n",
    "            return visited, True\n",
    "        visited_with_direction.update(newly_visited_with_direction)\n",
    "        # guard exits\n",
    "        if not in_grid(obs, m):\n",
    "            break\n",
    "        direction = turn(direction)\n",
    "        cpos = newly_visited[-1]\n",
    "    return visited, False\n",
    "\n",
    "visited, _ = get_path(m)\n",
    "loop_options = sum(simulate_loop(pos, m) for pos in visited - {guard_pos(m)})\n",
    "\n",
    "print(f\"Answer 1: {len(visited)}\")\n",
    "print(f\"Answer 2: {loop_options}\")"
   ],
   "id": "928be6218c222a17",
   "outputs": [
    {
     "name": "stdout",
     "output_type": "stream",
     "text": [
      "Answer 1: 5453\n",
      "Answer 2: 2188\n"
     ]
    }
   ],
   "execution_count": 84
  }
 ],
 "metadata": {
  "kernelspec": {
   "display_name": "Python 3",
   "language": "python",
   "name": "python3"
  },
  "language_info": {
   "codemirror_mode": {
    "name": "ipython",
    "version": 2
   },
   "file_extension": ".py",
   "mimetype": "text/x-python",
   "name": "python",
   "nbconvert_exporter": "python",
   "pygments_lexer": "ipython2",
   "version": "2.7.6"
  }
 },
 "nbformat": 4,
 "nbformat_minor": 5
}
