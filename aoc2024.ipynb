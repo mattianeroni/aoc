{
 "cells": [
  {
   "metadata": {},
   "cell_type": "markdown",
   "source": "##  ‧₊˚🎄✩ ₊˚🦌⊹♡ Advent of Code 2024 ‧₊˚🎄✩ ₊˚🦌⊹♡",
   "id": "febf7117868c140b"
  },
  {
   "metadata": {},
   "cell_type": "markdown",
   "source": "The resolutions for the new year are to have a good trade off between shortness, readability and performance",
   "id": "2f57e656974f8b55"
  },
  {
   "cell_type": "code",
   "id": "initial_id",
   "metadata": {
    "collapsed": true,
    "ExecuteTime": {
     "end_time": "2024-12-13T16:21:50.514116Z",
     "start_time": "2024-12-13T16:21:50.285731Z"
    }
   },
   "source": [
    "import operator\n",
    "import itertools\n",
    "import functools\n",
    "import collections\n",
    "import numpy as np\n",
    "import pandas as pd"
   ],
   "outputs": [],
   "execution_count": 2
  },
  {
   "metadata": {},
   "cell_type": "markdown",
   "source": "----------",
   "id": "9e52f648a8325244"
  },
  {
   "metadata": {},
   "cell_type": "markdown",
   "source": "### Day 1: Historian Hysteria 🎄",
   "id": "97caf0aea5fc0f01"
  },
  {
   "metadata": {},
   "cell_type": "markdown",
   "source": "Easy start. Using `pandas` makes the import a bit cleaner to me in this first game.",
   "id": "96e1c639ced4ff8b"
  },
  {
   "metadata": {
    "ExecuteTime": {
     "end_time": "2024-12-13T14:19:53.557083Z",
     "start_time": "2024-12-13T14:19:53.546670Z"
    }
   },
   "cell_type": "code",
   "source": [
    "df = pd.read_csv('data/day1.txt', sep='   ', header=None, engine='python')\n",
    "\n",
    "delta = np.abs(np.sort(df[0]) - np.sort(df[1])).sum()\n",
    "counter = collections.Counter(df[1])\n",
    "delta_diff = sum(i * counter[i] for i in df[0])\n",
    "\n",
    "print(f\"Answer 1: {delta}\")\n",
    "print(f\"Answer 2: {delta_diff}\")"
   ],
   "id": "bd4e0dee3ad64d3",
   "outputs": [
    {
     "name": "stdout",
     "output_type": "stream",
     "text": [
      "Answer 1: 2375403\n",
      "Answer 2: 23082277\n"
     ]
    }
   ],
   "execution_count": 10
  },
  {
   "metadata": {},
   "cell_type": "markdown",
   "source": "-----------",
   "id": "1adc687909e00573"
  },
  {
   "metadata": {},
   "cell_type": "markdown",
   "source": "### Day 2: Red-Nosed Reports 🦌🔴",
   "id": "50ba7d598634608c"
  },
  {
   "metadata": {},
   "cell_type": "markdown",
   "source": "Less clean than the solution proposed for instance by Peter Norvig but more efficient. Also, in `is_safe_repair`, Peter tries all the combinations while just the first one is enough because the texts says it is feasible if we can repair ONE infeasibility. But it's okay, Google is Google and capitalism is 💩.",
   "id": "61426e535f01c998"
  },
  {
   "metadata": {
    "ExecuteTime": {
     "end_time": "2024-12-13T14:41:16.184479Z",
     "start_time": "2024-12-13T14:41:16.168961Z"
    }
   },
   "cell_type": "code",
   "source": [
    "with open ('data/day2.txt') as f:\n",
    "    rows = [list(map(int, line.split(' '))) for line in f]\n",
    "\n",
    "def inrange(delta):\n",
    "    return 1 <= abs(delta) <= 3\n",
    "\n",
    "def is_safe(row):\n",
    "    rowthread = int(row[0] > row[-1])\n",
    "    return all(int(i > j) == rowthread and inrange(i - j) for i, j in zip(row, row[1:]))\n",
    "\n",
    "def is_safe_repair(row):\n",
    "    rowthread = int(row[0] > row[-1])\n",
    "    idx = next(idx for idx, (i, j) in enumerate(zip(row, row[1:])) if int(i > j) != rowthread or not inrange(i - j))\n",
    "    return is_safe(row[:idx] + row[idx + 1:]) or is_safe(row[:idx + 1] + row[idx + 2:])\n",
    "\n",
    "safe_count = sum(1 for row in rows if is_safe(row))\n",
    "safe_repair = sum(1 for row in rows if is_safe(row) or is_safe_repair(row))\n",
    "\n",
    "print(\"Answer 1: \", safe_count)\n",
    "print(\"Answer 2: \", safe_repair)"
   ],
   "id": "5ff44242e5f3bfbb",
   "outputs": [
    {
     "name": "stdout",
     "output_type": "stream",
     "text": [
      "Answer 1:  356\n",
      "Answer 2:  413\n"
     ]
    }
   ],
   "execution_count": 17
  },
  {
   "metadata": {},
   "cell_type": "markdown",
   "source": "-------",
   "id": "e113bed4cdffc4f4"
  },
  {
   "metadata": {},
   "cell_type": "markdown",
   "source": "### Day 3: Mull It Over 📖",
   "id": "c630bcad26988bd8"
  },
  {
   "metadata": {},
   "cell_type": "markdown",
   "source": [
    "The book in the title is because we are doing string manipulation, the most horrible of all tasks. Together with carbon for bad kids ⛽️ because I don't want to lose time on this. The `import re` is here because I hope I don't need regex anymore.\n",
    "\n",
    "Curious that `mul` is also a function in the `operator` module, so we can use `eval('operator.' + mulstr)` after importing `operator` to evaluate a multiplication ⚡️.\n",
    "\n",
    "I'm definetly not an expert, but it seems regex multiline is not working, that's why `text.replace('\\n', '')`. I like the 💄 emoji.\n",
    "\n",
    "Please note this solution is not working in case of a deactivation `don't()` at the end not followed by any `do()`, but I verified this was not the case in the dataset and, again, I hate losing time on strings manipulation."
   ],
   "id": "f0e50346ba9c3a25"
  },
  {
   "metadata": {
    "ExecuteTime": {
     "end_time": "2024-12-13T16:25:16.842754Z",
     "start_time": "2024-12-13T16:25:16.829225Z"
    }
   },
   "cell_type": "code",
   "source": [
    "import re\n",
    "\n",
    "with open ('data/day3.txt') as f:\n",
    "    text = f.read()\n",
    "\n",
    "def compile(mulstr):\n",
    "    return eval('operator.' + mulstr)\n",
    "\n",
    "total = sum(compile(i) for i in re.findall(r'mul\\(\\d+,\\d+\\)', text))\n",
    "active_text = re.sub(r\"don't\\(\\).*?(do\\(\\)|$)\", \"💄\", text.replace('\\n', ''))\n",
    "active_total = sum(compile(i) for i in re.findall(r'mul\\(\\d+,\\d+\\)', active_text))\n",
    "\n",
    "print(\"Answer 1: \", total)\n",
    "print(\"Answer 2: \", active_total)"
   ],
   "id": "c1530bd9003384fa",
   "outputs": [
    {
     "name": "stdout",
     "output_type": "stream",
     "text": [
      "Answer 1:  184576302\n",
      "Answer 2:  118173507\n"
     ]
    }
   ],
   "execution_count": 4
  },
  {
   "metadata": {},
   "cell_type": "markdown",
   "source": "--------------",
   "id": "50c4c8470675d9f5"
  },
  {
   "metadata": {},
   "cell_type": "markdown",
   "source": "### Day 4: Ceres Search 🍺",
   "id": "8269cb171ecb6cf4"
  },
  {
   "metadata": {},
   "cell_type": "markdown",
   "source": [
    "As italian, the Ceres to me is a beer 🍺. And the input is a beautiful 140 x 140 matrix, and to me this means `numpy`.\n",
    "Curious that I wrote the first function `get_xmas_in_line` to detect horizontal written XMAS and I realized, first, that it was possible to use it for vertically written XMAS by simply transposing the matrix, then, that it was possible to use it for diagonal XMAS as well 🤯 by rolling separately each column. However, it was getting too complicated and I opted for a simple nested for loop 🫏.\n",
    "\n",
    "Like `a` becomes `b` by rolling column 0 by 0, column 1 by -1, column 2 by -2 and column 3 by -3.\n",
    "```\n",
    "a = [[X # # #]\n",
    "     [# M # #]\n",
    "     [# # A #]\n",
    "     [# # # S]]\n",
    "b = [[X M A S]\n",
    "     [# # # #]\n",
    "     [# # # #]\n",
    "     [# # # #]]\n",
    "```\n",
    "\n",
    "Second part on X-MAS reminds me a porn (that's why `get_xmas_diagonal_porn`function).\n",
    "\n",
    "Horrible idea using `numpy`, I give myself a 5 this time. Julia functions vectorization is way cleaner by the way."
   ],
   "id": "8ea5894d329352f5"
  },
  {
   "metadata": {
    "ExecuteTime": {
     "end_time": "2024-12-13T17:40:50.001028Z",
     "start_time": "2024-12-13T17:40:49.326230Z"
    }
   },
   "cell_type": "code",
   "source": [
    "with open ('data/day4.txt') as f:\n",
    "    data = np.array([list(line.replace('\\n', '')) for line in f])\n",
    "\n",
    "def get_xmas_in_line(matrix, rolling):\n",
    "    xmas, samx = np.array(['X', 'M', 'A', 'S']), np.array(['S', 'A', 'M', 'X'])\n",
    "    rolled_matrix = np.roll(matrix, rolling, axis=1)\n",
    "    rolled_matrix[:, :rolling] = \"N\"\n",
    "    return int(np.all( rolled_matrix.reshape((-1, 4)) == xmas, axis=1).astype(int).sum()) + \\\n",
    "           int(np.all( rolled_matrix.reshape((-1, 4)) == samx, axis=1).astype(int).sum())\n",
    "\n",
    "def get_numeric_matrix(matrix):\n",
    "    num = np.zeros(matrix.shape)\n",
    "    for letter, number in zip(('X', 'M', 'A', 'S'), range(1, 5)):\n",
    "        num[matrix == letter] = number\n",
    "    return num\n",
    "\n",
    "def get_xmas_diagonal(matrix):\n",
    "    xmas, samx = np.array([1,2,3,4]), np.array([4,3,2,1])\n",
    "    return sum(\n",
    "        sum([\n",
    "            int(np.array_equal((matrix[i:i+4, j:j+4] * np.eye(4,4)).sum(axis=0), xmas)),\n",
    "            int(np.array_equal((matrix[i:i+4, j:j+4] * np.eye(4,4)).sum(axis=0), samx)),\n",
    "            int(np.array_equal((matrix[i:i+4, j:j+4] * np.flip(np.eye(4,4), axis=1)).sum(axis=0), xmas)),\n",
    "            int(np.array_equal((matrix[i:i+4, j:j+4] * np.flip(np.eye(4,4), axis=1)).sum(axis=0), samx))\n",
    "        ])\n",
    "        for i in range(matrix.shape[0] - 3) for j in range(matrix.shape[1] - 3)\n",
    "    )\n",
    "\n",
    "def get_xmas_diagonal_porn(matrix):\n",
    "    xeye = np.array([[1, 0, 1], [0, 1, 0], [1, 0, 1]])\n",
    "    return sum(\n",
    "        sum([\n",
    "            int(np.array_equal( matrix[i:i+3, j:j+3] * xeye, np.array([[2, 0, 2],[0, 3, 0],[4, 0, 4]]))),\n",
    "            int(np.array_equal( matrix[i:i+3, j:j+3] * xeye, np.array([[4, 0, 4],[0, 3, 0],[2, 0, 2]]))),\n",
    "            int(np.array_equal( matrix[i:i+3, j:j+3]* xeye, np.array([[4, 0, 2],[0, 3, 0],[4, 0, 2]]))),\n",
    "            int(np.array_equal( matrix[i:i+3, j:j+3]* xeye, np.array([[2, 0, 4],[0, 3, 0],[2, 0, 4]]))),\n",
    "        ])\n",
    "        for i in range(matrix.shape[0] - 2) for j in range(matrix.shape[1] - 2)\n",
    "    )\n",
    "\n",
    "h = sum(get_xmas_in_line(data, rolling=i) for i in range(4))\n",
    "v = sum(get_xmas_in_line(data.T, rolling=i) for i in range(4))\n",
    "d = get_xmas_diagonal(get_numeric_matrix(data))\n",
    "xd = get_xmas_diagonal_porn(get_numeric_matrix(data))\n",
    "print(\"Answer 1: \", h + v + d)\n",
    "print(\"Answer 2: \", xd)"
   ],
   "id": "d37c9e55bb3980f2",
   "outputs": [
    {
     "name": "stdout",
     "output_type": "stream",
     "text": [
      "Answer 1:  2358\n",
      "Answer 2:  1737\n"
     ]
    }
   ],
   "execution_count": 66
  }
 ],
 "metadata": {
  "kernelspec": {
   "display_name": "Python 3",
   "language": "python",
   "name": "python3"
  },
  "language_info": {
   "codemirror_mode": {
    "name": "ipython",
    "version": 2
   },
   "file_extension": ".py",
   "mimetype": "text/x-python",
   "name": "python",
   "nbconvert_exporter": "python",
   "pygments_lexer": "ipython2",
   "version": "2.7.6"
  }
 },
 "nbformat": 4,
 "nbformat_minor": 5
}
